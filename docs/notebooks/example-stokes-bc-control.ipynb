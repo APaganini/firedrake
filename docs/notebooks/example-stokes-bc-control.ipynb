{
 "cells": [
  {
   "cell_type": "markdown",
   "metadata": {},
   "source": [
    "# Optimisation with `firedrake-adjoint`\n",
    "\n",
    "*This example is modified from the equivalent [`dolfin-adjoint` demo](http://www.dolfin-adjoint.org/en/latest/documentation/stokes-bc-control/stokes-bc-control.html)*\n",
    "\n",
    "\n",
    "In this example, we will look at how to use `firedrake-adjoint` to optimise for strong (Dirichlet) conditions in a steady problem.  `firedrake-adjoint` is a thin compatibility layer for the [`dolfin-adjoint` package](http://www.dolfin-adjoint.org/en/latest/), a python package to **automatically derive the discrete adjoint and tangent linear models** of forward problems written using Firedrake.\n",
    "\n",
    "## Installing necessary dependencies\n",
    "We will need to install `firedrake-adjoint` to run this example.  To do so, run:\n",
    "\n",
    "```sh\n",
    "firedrake-update --adjoint\n",
    "```\n",
    "\n",
    "In the activated firedrake virtualenv.\n",
    "\n",
    "For the minimisation, we will need `scipy`, which is installed with\n",
    "\n",
    "```sh\n",
    "pip install scipy\n",
    "```\n",
    "\n",
    "In the activated firedrake virtualenv."
   ]
  },
  {
   "cell_type": "markdown",
   "metadata": {},
   "source": [
    "As usual, we begin with some notebook magic (so that plots appear nicely) and importing firedrake."
   ]
  },
  {
   "cell_type": "code",
   "execution_count": null,
   "metadata": {
    "collapsed": true
   },
   "outputs": [],
   "source": [
    "%matplotlib notebook\n",
    "from firedrake import *"
   ]
  },
  {
   "cell_type": "markdown",
   "metadata": {},
   "source": [
    "The next step is new, we now import the `firedrake_adjoint` package, which *overrides* much of the Firedrake interface so that an *annotated tape* for adjoint calculations can be built automatically."
   ]
  },
  {
   "cell_type": "code",
   "execution_count": null,
   "metadata": {
    "collapsed": true
   },
   "outputs": [],
   "source": [
    "from firedrake_adjoint import *"
   ]
  },
  {
   "cell_type": "markdown",
   "metadata": {},
   "source": [
    "## Problem setup\n",
    "Now we will set up the problem.  We consider minimising the compliance:\n",
    "\n",
    "$$\n",
    "\\min_{g, u, p} \\ \\frac{1}{2}\\int_{\\Omega} \\nabla u \\cdot \\nabla u\\,\\text{d}x +  \\frac{\\alpha}{2} \\int_{\\Gamma_{\\textrm{in}}} g^2\\,\\text{d}s\n",
    "$$\n",
    "\n",
    "subject to the Stokes equations\n",
    "$$\n",
    "\\begin{split}-\\nu \\Delta u + \\nabla p &= 0  \\quad \\text{in $\\Omega$} \\\\\n",
    "                  \\nabla \\cdot u &= 0  \\quad \\text{in $\\Omega$}  \n",
    "                  \\end{split}\n",
    "$$\n",
    "\n",
    "and Dirichlet conditions\n",
    "\n",
    "$$\n",
    "\\begin{split}\n",
    "u &= g  \\quad \\text{on $\\Gamma_\\text{circ}$} \\\\\n",
    "u &= f  \\quad \\text{on $\\Gamma_\\text{in}$} \\\\\n",
    "u &= 0  \\quad \\text{on $\\Gamma_\\text{top} \\cup \\Gamma_\\text{bottom}$} \\\\\n",
    "p &= 0  \\quad \\text{on $\\Gamma_\\text{out}$}. \\\\\n",
    "\\end{split}\n",
    "$$\n",
    "\n",
    "Here, $u$ and $p$ are unknown velocity and pressure, $f$ is a prescribed inflow, $g$ is the control variable that we will optimise for and $\\alpha$ is a regularisation parameter.  This corresponds physically to minimising the loss of energy as heat by controlling the in/outflow on $\\Gamma_\\text{circ}$.  The regularisation parameter penalises too many non-zero control values."
   ]
  },
  {
   "cell_type": "markdown",
   "metadata": {},
   "source": [
    "This problem setup requires a mesh that is more complex than the built in ones Firedrake provides.  Instead, it was created with [Gmsh](http://gmsh.info).  It is loaded by using the `Mesh` constructor, passing the filename of the mesh in question."
   ]
  },
  {
   "cell_type": "code",
   "execution_count": null,
   "metadata": {
    "collapsed": true
   },
   "outputs": [],
   "source": [
    "mesh = Mesh(\"stokes-control.msh\")"
   ]
  },
  {
   "cell_type": "markdown",
   "metadata": {},
   "source": [
    "Now we'll take a look at the mesh.  Since we will need to know which mesh markers correspond to which parts of the boundary, we've labelled them here.  Normally you will know this because you told your mesh generator how to mark the boundaries."
   ]
  },
  {
   "cell_type": "code",
   "execution_count": null,
   "metadata": {
    "collapsed": false,
    "scrolled": false
   },
   "outputs": [],
   "source": [
    "axes = plot(mesh);\n",
    "axes.axis(\"off\")\n",
    "axes.annotate(\"$\\Gamma_\\mathrm{in}$ (1)\", xy=(-5, 5), annotation_clip=False, fontsize=16)\n",
    "axes.annotate(\"$\\Gamma_\\mathrm{out}$ (2)\", xy=(31, 5), annotation_clip=False, fontsize=16)\n",
    "axes.annotate(\"$\\Gamma_\\mathrm{top}$ (3)\", xy=(15, 11), annotation_clip=False, fontsize=16)\n",
    "axes.annotate(\"$\\Gamma_\\mathrm{bottom}$ (5)\", xy=(15, -2), annotation_clip=False, fontsize=16)\n",
    "axes.annotate(\"$\\Gamma_\\mathrm{circ}$ (4)\", xy=(8, 4.5), annotation_clip=False, fontsize=16);"
   ]
  },
  {
   "cell_type": "markdown",
   "metadata": {},
   "source": [
    "## The forward problem\n",
    "\n",
    "The forward problem should be familiar by now, we create a mixed function space for $u$ and $p$ and set up trial and test functions.  We specify a parabolic velocity at the inflow, and no-slip (zero velocity) conditions on the side walls.  The zero-pressure outflow condition is enforced weakly."
   ]
  },
  {
   "cell_type": "code",
   "execution_count": null,
   "metadata": {
    "collapsed": false
   },
   "outputs": [],
   "source": [
    "V = VectorFunctionSpace(mesh, \"CG\", 2)\n",
    "Q = FunctionSpace(mesh, \"CG\", 1)\n",
    "W = V*Q\n",
    "\n",
    "v, q = TestFunctions(W)\n",
    "u, p = TrialFunctions(W)\n",
    "\n",
    "nu = Constant(1)     # Viscosity coefficient\n",
    "\n",
    "x, y = SpatialCoordinate(mesh)\n",
    "u_inflow = as_vector([y*(10-y)/25.0, 0])\n",
    "\n",
    "noslip = DirichletBC(W.sub(0), (0, 0), (3, 5))\n",
    "inflow = DirichletBC(W.sub(0), interpolate(u_inflow, V), 1)\n",
    "bcs = [inflow, noslip]"
   ]
  },
  {
   "cell_type": "markdown",
   "metadata": {},
   "source": [
    "The variational formulation is slightly more complex.  At present, `firedrake-adjoint` cannot optimise boundary condition values in a `DirichletBC` object.  As a workaround, we therefore enforce the strong (Dirichlet) condition on the interior circle boundary using Nitsche's method.\n",
    "\n",
    "We start with the normal weak formulation for Stokes.  Find $(u, p) \\in V\\times Q$ such that:\n",
    "\n",
    "$$\n",
    "\\begin{align}\n",
    "\\int_\\Omega \\nu \\nabla u : \\nabla v\\,\\text{d}x\n",
    "- \\int_\\Omega p \\nabla \\cdot v\\,\\text{d}x \n",
    "- \\int_{\\Gamma_{\\text{circ}}} \\nu (\\nabla u \\cdot n) \\cdot v\\,\\text{d}s \n",
    "+ \\int_{\\Gamma_{\\text{circ}}} p n \\cdot v\\,\\text{d}s &= 0 \\quad \\forall v \\in V\\\\\n",
    "- \\int_\\Omega q \\nabla \\cdot u\\,\\text{d}x &= 0 \\quad \\forall q \\in Q.\n",
    "\\end{align}\n",
    "$$\n",
    "\n",
    "Note how that the surface terms on $\\Gamma_\\text{circ}$ have not been dropped, since there is no DirichletBC constraining the values.\n",
    "\n",
    "To enforce the boundary condition, we symmetrise the operator by adding new boundary terms plus the Nitsche term $\\frac{\\gamma}{h}\\nu \\int_{\\Gamma_\\text{circ}} u \\cdot v\\,\\text{d}s$.  We then add the same terms to the right hand side, replacing the unknown $u$ by the prescribed boundary value $g$.  Here, $\\gamma$ is the Nitsche parameter (typically chosen to be 10) and $h$ the mesh element size (available through the symbolic object `CellSize(mesh)`).\n",
    "\n",
    "Finally, we arrive at the full formulation.  Find $(u, p) \\in V\\times Q$ such that:\n",
    "\n",
    "$$\n",
    "\\begin{align}\n",
    "\\int_\\Omega \\nu \\nabla u : \\nabla v\\,\\text{d}x\n",
    "- \\int_\\Omega p \\nabla \\cdot v\\,\\text{d}x \\\\\n",
    "- \\int_{\\Gamma_{\\text{circ}}} \\nu (\\nabla u \\cdot n) \\cdot v\\,\\text{d}s \n",
    "+ \\int_{\\Gamma_{\\text{circ}}} p n \\cdot v\\,\\text{d}s \\\\\n",
    "- \\int_{\\Gamma_{\\text{circ}}} \\nu (\\nabla v \\cdot n) \\cdot u\\,\\text{d}s\n",
    "+ \\int_{\\Gamma_{\\text{circ}}} \\frac{\\gamma}{h} \\nu u \\cdot v\\,\\text{d}s\n",
    "&= -\\int_{\\Gamma_{\\text{circ}}}\\nu (\\nabla v \\cdot n) \\cdot g\\,\\text{d}s \n",
    "+ \\int_{\\Gamma_{\\text{circ}}} \\frac{\\gamma}{h} \\nu g \\cdot v\\,\\text{d}s\\quad \\forall v \\in V\\\\\n",
    "- \\int_\\Omega q \\nabla \\cdot u\\,\\text{d}x \n",
    "+ \\int_{\\Gamma_{\\text{circ}}} qn\\cdot u\\,\\text{d}s \n",
    "&= \\int_{\\Gamma_{\\text{circ}}} qn\\cdot g\\,\\text{d}s \\quad \\forall q \\in Q.\n",
    "\\end{align}\n",
    "$$"
   ]
  },
  {
   "cell_type": "markdown",
   "metadata": {},
   "source": [
    "Let's go ahead and implement this.  First we define the control `Function` for the boundary values we wish to optimise for, along with the Nitsche parameter and a facet normal and cell size object."
   ]
  },
  {
   "cell_type": "code",
   "execution_count": null,
   "metadata": {
    "collapsed": true
   },
   "outputs": [],
   "source": [
    "g = Function(V, name=\"Control\")\n",
    "gamma = Constant(10)\n",
    "n = FacetNormal(mesh)\n",
    "h = CellSize(mesh)"
   ]
  },
  {
   "cell_type": "markdown",
   "metadata": {},
   "source": [
    "Now we define the bilinear and linear forms.  The input mesh had mesh markers for the different parts of the walls, and marker 4 corresponds to the facets on the circle boundary, so we use `ds(4)` to integrate over these pieces."
   ]
  },
  {
   "cell_type": "code",
   "execution_count": null,
   "metadata": {
    "collapsed": false
   },
   "outputs": [],
   "source": [
    "a = (nu*inner(grad(u), grad(v))*dx\n",
    "     - nu*inner(grad(u)*n, v)*ds(4)\n",
    "     - nu*inner(grad(v)*n, u)*ds(4)\n",
    "     + gamma/h*nu*inner(u, v)*ds(4)\n",
    "     - inner(p, div(v))*dx\n",
    "     + inner(p*n, v)*ds(4)\n",
    "     - inner(q, div(u))*dx\n",
    "     + inner(q*n, u)*ds(4)\n",
    "     )\n",
    "L = (- nu*inner(grad(v)*n, g)*ds(4)\n",
    "     + gamma/h*nu*inner(g, v)*ds(4)\n",
    "     + inner(q*n, g)*ds(4)\n",
    "     )"
   ]
  },
  {
   "cell_type": "markdown",
   "metadata": {},
   "source": [
    "Now let's solve the forward problem so that `firedrake-adjoint` annotates it.  We'll also take a look at the solution."
   ]
  },
  {
   "cell_type": "code",
   "execution_count": null,
   "metadata": {
    "collapsed": false
   },
   "outputs": [],
   "source": [
    "w = Function(W)\n",
    "solve(a == L, w, bcs=bcs, solver_parameters={\"pc_type\": \"lu\", \"mat_type\": \"aij\", \n",
    "                                             \"pc_factor_mat_solver_package\": \"mumps\"})"
   ]
  },
  {
   "cell_type": "code",
   "execution_count": null,
   "metadata": {
    "collapsed": false,
    "scrolled": false
   },
   "outputs": [],
   "source": [
    "u_init, p_init = w.split()\n",
    "axes = plot(u_init);\n",
    "axes.set_aspect(\"equal\")\n",
    "axes.set_title(\"Velocity\")\n",
    "axes = plot(p_init)\n",
    "axes.set_aspect(\"equal\")\n",
    "axes.set_title(\"Pressure\");"
   ]
  },
  {
   "cell_type": "markdown",
   "metadata": {},
   "source": [
    "## The optimisation problem\n",
    "\n",
    "Now we come to the optimisation problem.  We first define the functional we wish to minimise.  Then we specify a control variable, and produce a \"reduced\" functional (the evaluation of the functional at a given control value).  We then minimise (or minimi**z**e, due to American spellings) the functional, producing an optimised control value.  See [the dolfin-adjoint documentation](http://www.dolfin-adjoint.org/en/latest/documentation/optimisation.html#the-reduced-functional) for more details on reduced functionals."
   ]
  },
  {
   "cell_type": "code",
   "execution_count": null,
   "metadata": {
    "collapsed": false
   },
   "outputs": [],
   "source": [
    "u, p = split(w)\n",
    "alpha = Constant(10)\n",
    "\n",
    "J = Functional(1./2*inner(grad(u), grad(u))*dx + alpha/2*inner(g, g)*ds(4))\n",
    "m = Control(g)\n",
    "Jhat = ReducedFunctional(J, m)\n",
    "g_opt = minimise(Jhat)"
   ]
  },
  {
   "cell_type": "markdown",
   "metadata": {},
   "source": [
    "Now let's take a look at the optimised control.  The initial boundary condition on the circle was no slip.  We see now that the optimised boundary condition has a significant outflow in the hole."
   ]
  },
  {
   "cell_type": "code",
   "execution_count": null,
   "metadata": {
    "collapsed": false
   },
   "outputs": [],
   "source": [
    "axes = plot(g_opt, scale=3)\n",
    "axes.set_aspect(\"equal\")\n",
    "axes.set_title(\"Optimised boundary value\");"
   ]
  },
  {
   "cell_type": "markdown",
   "metadata": {},
   "source": [
    "Let's compare the difference in the initial and final values of the functional.  This is done by calling the `ReducedFunctional` object with the control at the requested value."
   ]
  },
  {
   "cell_type": "code",
   "execution_count": null,
   "metadata": {
    "collapsed": false
   },
   "outputs": [],
   "source": [
    "Jhat(g), Jhat(g_opt)"
   ]
  },
  {
   "cell_type": "markdown",
   "metadata": {},
   "source": [
    "To see the optimised flow field, we solve the same problem again, only with the new (optimised) value for the boundary data on $\\Gamma_\\text{circ}$.  This time we're not interested in annotating the solve, so we tell `firedrake-adjoint` to ignore it by passing `annotate=False`."
   ]
  },
  {
   "cell_type": "code",
   "execution_count": null,
   "metadata": {
    "collapsed": false
   },
   "outputs": [],
   "source": [
    "g.assign(g_opt)\n",
    "w_opt = Function(W)\n",
    "solve(a == L, w_opt, bcs=bcs, solver_parameters={\"pc_type\": \"lu\", \"mat_type\": \"aij\", \n",
    "                                                 \"pc_factor_mat_solver_package\": \"mumps\"},\n",
    "      annotate=False)\n",
    "\n",
    "u_opt, p_opt = w_opt.split()\n",
    "axes = plot(u_opt)\n",
    "axes.set_aspect(\"equal\")\n",
    "axes.set_title(\"Optimised velocity\");\n",
    "axes = plot(p_opt)\n",
    "axes.set_aspect(\"equal\")\n",
    "axes.set_title(\"Optimised pressure\");"
   ]
  },
  {
   "cell_type": "markdown",
   "metadata": {},
   "source": [
    "Now that we are done optimising this problem, and so that the recorded annotations do not leak into the exercise, we tell `firedrake-adjoint` to *forget* all of the entries on its tape."
   ]
  },
  {
   "cell_type": "code",
   "execution_count": null,
   "metadata": {
    "collapsed": true
   },
   "outputs": [],
   "source": [
    "adj_reset()"
   ]
  },
  {
   "cell_type": "markdown",
   "metadata": {},
   "source": [
    "# Exercise\n",
    "\n",
    "Modify the problem so that the boundary conditions are as follows:\n",
    "\n",
    "$$\n",
    "\\begin{split}\n",
    "u &= (1, 0) \\quad &\\text{on $\\Gamma_\\text{top}$}\\\\\n",
    "u &= (0, 0) \\quad&\\text{on $\\Gamma_\\text{in}$}\\\\\n",
    "u &= g \\quad&\\text{on $\\Gamma_\\text{out} \\cup \\Gamma_\\text{bottom}$}\\\\\n",
    "p &= 0 \\quad&\\text{on $\\Gamma_\\text{circ}$}\n",
    "\\end{split}\n",
    "$$\n",
    "\n",
    "and again optimise for $g$ in the same manner.\n",
    "\n",
    "The change in the velocity and pressure fields will be less obvious than in the previous example, to verify that there is a difference try plotting the difference between the initial field for $u$ and the optimised field for $u$.\n",
    "\n",
    "- Hint 1: the `ds` integral can take a `tuple` of markers: e.g. `ds((2, 5))`.\n",
    "- Hint 2: to compute the pointwise difference between two fields in the same function space, write: `assemble(field_a - field_b)`.\n"
   ]
  },
  {
   "cell_type": "code",
   "execution_count": null,
   "metadata": {
    "collapsed": false
   },
   "outputs": [],
   "source": []
  }
 ],
 "metadata": {
  "kernelspec": {
   "display_name": "Python 2",
   "language": "python",
   "name": "python2"
  },
  "language_info": {
   "codemirror_mode": {
    "name": "ipython",
    "version": 2
   },
   "file_extension": ".py",
   "mimetype": "text/x-python",
   "name": "python",
   "nbconvert_exporter": "python",
   "pygments_lexer": "ipython2",
   "version": "2.7.9"
  }
 },
 "nbformat": 4,
 "nbformat_minor": 2
}
